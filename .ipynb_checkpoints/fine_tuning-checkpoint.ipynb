{
  "cells": [
    {
      "cell_type": "markdown",
      "id": "0a9bb5ae",
      "metadata": {
        "id": "0a9bb5ae"
      },
      "source": [
        "The following additional libraries are needed to run this\n",
        "notebook. Note that running on Colab is experimental, please report a Github\n",
        "issue if you have any problem."
      ]
    },
    {
      "cell_type": "code",
      "execution_count": 1,
      "id": "b3b616ef",
      "metadata": {
        "id": "b3b616ef",
        "outputId": "51740c28-2425-4792-da6a-7f44f3439967",
        "colab": {
          "base_uri": "https://localhost:8080/"
        }
      },
      "outputs": [
        {
          "output_type": "stream",
          "name": "stdout",
          "text": [
            "Collecting git+https://github.com/d2l-ai/d2l-zh@release\n",
            "  Cloning https://github.com/d2l-ai/d2l-zh (to revision release) to /tmp/pip-req-build-a_qk8mi3\n",
            "  Running command git clone --filter=blob:none --quiet https://github.com/d2l-ai/d2l-zh /tmp/pip-req-build-a_qk8mi3\n",
            "  Running command git checkout -b release --track origin/release\n",
            "  Switched to a new branch 'release'\n",
            "  Branch 'release' set up to track remote branch 'release' from 'origin'.\n",
            "  Resolved https://github.com/d2l-ai/d2l-zh to commit 843d3d41dca48d8df65f4b324dd171d8bfe9c067\n",
            "  Running command git submodule update --init --recursive -q\n",
            "  Preparing metadata (setup.py) ... \u001b[?25l\u001b[?25hdone\n",
            "Collecting jupyter==1.0.0 (from d2l==2.0.0)\n",
            "  Downloading jupyter-1.0.0-py2.py3-none-any.whl.metadata (995 bytes)\n",
            "INFO: pip is looking at multiple versions of d2l to determine which version is compatible with other requirements. This could take a while.\n",
            "\u001b[31mERROR: Ignored the following versions that require a different python version: 1.21.2 Requires-Python >=3.7,<3.11; 1.21.3 Requires-Python >=3.7,<3.11; 1.21.4 Requires-Python >=3.7,<3.11; 1.21.5 Requires-Python >=3.7,<3.11; 1.21.6 Requires-Python >=3.7,<3.11\u001b[0m\u001b[31m\n",
            "\u001b[0m\u001b[31mERROR: Could not find a version that satisfies the requirement numpy==1.21.5 (from d2l) (from versions: 1.3.0, 1.4.1, 1.5.0, 1.5.1, 1.6.0, 1.6.1, 1.6.2, 1.7.0, 1.7.1, 1.7.2, 1.8.0, 1.8.1, 1.8.2, 1.9.0, 1.9.1, 1.9.2, 1.9.3, 1.10.0.post2, 1.10.1, 1.10.2, 1.10.4, 1.11.0, 1.11.1, 1.11.2, 1.11.3, 1.12.0, 1.12.1, 1.13.0, 1.13.1, 1.13.3, 1.14.0, 1.14.1, 1.14.2, 1.14.3, 1.14.4, 1.14.5, 1.14.6, 1.15.0, 1.15.1, 1.15.2, 1.15.3, 1.15.4, 1.16.0, 1.16.1, 1.16.2, 1.16.3, 1.16.4, 1.16.5, 1.16.6, 1.17.0, 1.17.1, 1.17.2, 1.17.3, 1.17.4, 1.17.5, 1.18.0, 1.18.1, 1.18.2, 1.18.3, 1.18.4, 1.18.5, 1.19.0, 1.19.1, 1.19.2, 1.19.3, 1.19.4, 1.19.5, 1.20.0, 1.20.1, 1.20.2, 1.20.3, 1.21.0, 1.21.1, 1.22.0, 1.22.1, 1.22.2, 1.22.3, 1.22.4, 1.23.0, 1.23.1, 1.23.2, 1.23.3, 1.23.4, 1.23.5, 1.24.0, 1.24.1, 1.24.2, 1.24.3, 1.24.4, 1.25.0, 1.25.1, 1.25.2, 1.26.0, 1.26.1, 1.26.2, 1.26.3, 1.26.4, 2.0.0, 2.0.1, 2.0.2, 2.1.0rc1, 2.1.0, 2.1.1, 2.1.2, 2.1.3, 2.2.0rc1, 2.2.0, 2.2.1, 2.2.2, 2.2.3, 2.2.4, 2.2.5, 2.2.6, 2.3.0rc1, 2.3.0)\u001b[0m\u001b[31m\n",
            "\u001b[0m\u001b[31mERROR: No matching distribution found for numpy==1.21.5\u001b[0m\u001b[31m\n",
            "\u001b[0m"
          ]
        }
      ],
      "source": [
        "!pip install git+https://github.com/d2l-ai/d2l-zh@release  # installing d2l\n"
      ]
    },
    {
      "cell_type": "markdown",
      "id": "07b4b134",
      "metadata": {
        "origin_pos": 0,
        "id": "07b4b134"
      },
      "source": [
        "# 微调\n",
        ":label:`sec_fine_tuning`\n",
        "\n",
        "前面的一些章节介绍了如何在只有6万张图像的Fashion-MNIST训练数据集上训练模型。\n",
        "我们还描述了学术界当下使用最广泛的大规模图像数据集ImageNet，它有超过1000万的图像和1000类的物体。\n",
        "然而，我们平常接触到的数据集的规模通常在这两者之间。\n",
        "\n",
        "假如我们想识别图片中不同类型的椅子，然后向用户推荐购买链接。\n",
        "一种可能的方法是首先识别100把普通椅子，为每把椅子拍摄1000张不同角度的图像，然后在收集的图像数据集上训练一个分类模型。\n",
        "尽管这个椅子数据集可能大于Fashion-MNIST数据集，但实例数量仍然不到ImageNet中的十分之一。\n",
        "适合ImageNet的复杂模型可能会在这个椅子数据集上过拟合。\n",
        "此外，由于训练样本数量有限，训练模型的准确性可能无法满足实际要求。\n",
        "\n",
        "为了解决上述问题，一个显而易见的解决方案是收集更多的数据。\n",
        "但是，收集和标记数据可能需要大量的时间和金钱。\n",
        "例如，为了收集ImageNet数据集，研究人员花费了数百万美元的研究资金。\n",
        "尽管目前的数据收集成本已大幅降低，但这一成本仍不能忽视。\n",
        "\n",
        "另一种解决方案是应用*迁移学习*（transfer learning）将从*源数据集*学到的知识迁移到*目标数据集*。\n",
        "例如，尽管ImageNet数据集中的大多数图像与椅子无关，但在此数据集上训练的模型可能会提取更通用的图像特征，这有助于识别边缘、纹理、形状和对象组合。\n",
        "这些类似的特征也可能有效地识别椅子。\n",
        "\n",
        "## 步骤\n",
        "\n",
        "本节将介绍迁移学习中的常见技巧:*微调*（fine-tuning）。如 :numref:`fig_finetune`所示，微调包括以下四个步骤。\n",
        "\n",
        "1. 在源数据集（例如ImageNet数据集）上预训练神经网络模型，即*源模型*。\n",
        "1. 创建一个新的神经网络模型，即*目标模型*。这将复制源模型上的所有模型设计及其参数（输出层除外）。我们假定这些模型参数包含从源数据集中学到的知识，这些知识也将适用于目标数据集。我们还假设源模型的输出层与源数据集的标签密切相关；因此不在目标模型中使用该层。\n",
        "1. 向目标模型添加输出层，其输出数是目标数据集中的类别数。然后随机初始化该层的模型参数。\n",
        "1. 在目标数据集（如椅子数据集）上训练目标模型。输出层将从头开始进行训练，而所有其他层的参数将根据源模型的参数进行微调。\n",
        "\n",
        "![微调。](http://d2l.ai/_images/finetune.svg)\n",
        ":label:`fig_finetune`\n",
        "\n",
        "当目标数据集比源数据集小得多时，微调有助于提高模型的泛化能力。\n",
        "\n",
        "## 热狗识别\n",
        "\n",
        "让我们通过具体案例演示微调：热狗识别。\n",
        "我们将在一个小型数据集上微调ResNet模型。该模型已在ImageNet数据集上进行了预训练。\n",
        "这个小型数据集包含数千张包含热狗和不包含热狗的图像，我们将使用微调模型来识别图像中是否包含热狗。\n"
      ]
    },
    {
      "cell_type": "code",
      "execution_count": 2,
      "id": "a041c0b1",
      "metadata": {
        "execution": {
          "iopub.execute_input": "2023-08-18T07:09:16.255602Z",
          "iopub.status.busy": "2023-08-18T07:09:16.254993Z",
          "iopub.status.idle": "2023-08-18T07:09:19.697997Z",
          "shell.execute_reply": "2023-08-18T07:09:19.697096Z"
        },
        "origin_pos": 2,
        "tab": [
          "pytorch"
        ],
        "id": "a041c0b1",
        "outputId": "20a20d99-00b3-4acc-d23a-ac0a9c65e15c",
        "colab": {
          "base_uri": "https://localhost:8080/",
          "height": 374
        }
      },
      "outputs": [
        {
          "output_type": "error",
          "ename": "ModuleNotFoundError",
          "evalue": "No module named 'd2l'",
          "traceback": [
            "\u001b[0;31m---------------------------------------------------------------------------\u001b[0m",
            "\u001b[0;31mModuleNotFoundError\u001b[0m                       Traceback (most recent call last)",
            "\u001b[0;32m/tmp/ipython-input-2-477400130.py\u001b[0m in \u001b[0;36m<cell line: 0>\u001b[0;34m()\u001b[0m\n\u001b[1;32m      4\u001b[0m \u001b[0;32mimport\u001b[0m \u001b[0mtorchvision\u001b[0m\u001b[0;34m\u001b[0m\u001b[0;34m\u001b[0m\u001b[0m\n\u001b[1;32m      5\u001b[0m \u001b[0;32mfrom\u001b[0m \u001b[0mtorch\u001b[0m \u001b[0;32mimport\u001b[0m \u001b[0mnn\u001b[0m\u001b[0;34m\u001b[0m\u001b[0;34m\u001b[0m\u001b[0m\n\u001b[0;32m----> 6\u001b[0;31m \u001b[0;32mfrom\u001b[0m \u001b[0md2l\u001b[0m \u001b[0;32mimport\u001b[0m \u001b[0mtorch\u001b[0m \u001b[0;32mas\u001b[0m \u001b[0md2l\u001b[0m\u001b[0;34m\u001b[0m\u001b[0;34m\u001b[0m\u001b[0m\n\u001b[0m",
            "\u001b[0;31mModuleNotFoundError\u001b[0m: No module named 'd2l'",
            "",
            "\u001b[0;31m---------------------------------------------------------------------------\u001b[0;32m\nNOTE: If your import is failing due to a missing package, you can\nmanually install dependencies using either !pip or !apt.\n\nTo view examples of installing some common dependencies, click the\n\"Open Examples\" button below.\n\u001b[0;31m---------------------------------------------------------------------------\u001b[0m\n"
          ],
          "errorDetails": {
            "actions": [
              {
                "action": "open_url",
                "actionText": "Open Examples",
                "url": "/notebooks/snippets/importing_libraries.ipynb"
              }
            ]
          }
        }
      ],
      "source": [
        "%matplotlib inline\n",
        "import os\n",
        "import torch\n",
        "import torchvision\n",
        "from torch import nn\n",
        "from d2l import torch as d2l"
      ]
    },
    {
      "cell_type": "markdown",
      "id": "e96e037d",
      "metadata": {
        "origin_pos": 4,
        "id": "e96e037d"
      },
      "source": [
        "### 获取数据集\n",
        "\n",
        "我们使用的[**热狗数据集来源于网络**]。\n",
        "该数据集包含1400张热狗的“正类”图像，以及包含尽可能多的其他食物的“负类”图像。\n",
        "含着两个类别的1000张图片用于训练，其余的则用于测试。\n",
        "\n",
        "解压下载的数据集，我们获得了两个文件夹`hotdog/train`和`hotdog/test`。\n",
        "这两个文件夹都有`hotdog`（有热狗）和`not-hotdog`（无热狗）两个子文件夹，\n",
        "子文件夹内都包含相应类的图像。\n"
      ]
    },
    {
      "cell_type": "code",
      "execution_count": null,
      "id": "60ecdc80",
      "metadata": {
        "execution": {
          "iopub.execute_input": "2023-08-18T07:09:19.743010Z",
          "iopub.status.busy": "2023-08-18T07:09:19.742335Z",
          "iopub.status.idle": "2023-08-18T07:09:27.510104Z",
          "shell.execute_reply": "2023-08-18T07:09:27.509268Z"
        },
        "origin_pos": 5,
        "tab": [
          "pytorch"
        ],
        "id": "60ecdc80"
      },
      "outputs": [],
      "source": [
        "#@save\n",
        "d2l.DATA_HUB['hotdog'] = (d2l.DATA_URL + 'hotdog.zip',\n",
        "                         'fba480ffa8aa7e0febbb511d181409f899b9baa5')\n",
        "\n",
        "data_dir = d2l.download_extract('hotdog')"
      ]
    },
    {
      "cell_type": "markdown",
      "id": "c72c1b3a",
      "metadata": {
        "origin_pos": 6,
        "id": "c72c1b3a"
      },
      "source": [
        "我们创建两个实例来分别读取训练和测试数据集中的所有图像文件。\n"
      ]
    },
    {
      "cell_type": "code",
      "execution_count": null,
      "id": "fd208011",
      "metadata": {
        "execution": {
          "iopub.execute_input": "2023-08-18T07:09:27.514182Z",
          "iopub.status.busy": "2023-08-18T07:09:27.513619Z",
          "iopub.status.idle": "2023-08-18T07:09:27.525236Z",
          "shell.execute_reply": "2023-08-18T07:09:27.524465Z"
        },
        "origin_pos": 8,
        "tab": [
          "pytorch"
        ],
        "id": "fd208011"
      },
      "outputs": [],
      "source": [
        "train_imgs = torchvision.datasets.ImageFolder(os.path.join(data_dir, 'train'))\n",
        "test_imgs = torchvision.datasets.ImageFolder(os.path.join(data_dir, 'test'))"
      ]
    },
    {
      "cell_type": "markdown",
      "id": "5a20cf43",
      "metadata": {
        "origin_pos": 10,
        "id": "5a20cf43"
      },
      "source": [
        "下面显示了前8个正类样本图片和最后8张负类样本图片。正如所看到的，[**图像的大小和纵横比各有不同**]。\n"
      ]
    },
    {
      "cell_type": "code",
      "execution_count": null,
      "id": "c5db62fb",
      "metadata": {
        "execution": {
          "iopub.execute_input": "2023-08-18T07:09:27.528713Z",
          "iopub.status.busy": "2023-08-18T07:09:27.528116Z",
          "iopub.status.idle": "2023-08-18T07:09:28.207612Z",
          "shell.execute_reply": "2023-08-18T07:09:28.206842Z"
        },
        "origin_pos": 11,
        "tab": [
          "pytorch"
        ],
        "id": "c5db62fb"
      },
      "outputs": [],
      "source": [
        "hotdogs = [train_imgs[i][0] for i in range(8)]\n",
        "not_hotdogs = [train_imgs[-i - 1][0] for i in range(8)]\n",
        "d2l.show_images(hotdogs + not_hotdogs, 2, 8, scale=1.4);"
      ]
    },
    {
      "cell_type": "markdown",
      "id": "5431c601",
      "metadata": {
        "origin_pos": 12,
        "id": "5431c601"
      },
      "source": [
        "在训练期间，我们首先从图像中裁切随机大小和随机长宽比的区域，然后将该区域缩放为$224 \\times 224$输入图像。\n",
        "在测试过程中，我们将图像的高度和宽度都缩放到256像素，然后裁剪中央$224 \\times 224$区域作为输入。\n",
        "此外，对于RGB（红、绿和蓝）颜色通道，我们分别*标准化*每个通道。\n",
        "具体而言，该通道的每个值减去该通道的平均值，然后将结果除以该通道的标准差。\n",
        "\n",
        "[~~数据增广~~]\n"
      ]
    },
    {
      "cell_type": "code",
      "execution_count": null,
      "id": "d251b5e9",
      "metadata": {
        "execution": {
          "iopub.execute_input": "2023-08-18T07:09:28.212132Z",
          "iopub.status.busy": "2023-08-18T07:09:28.211616Z",
          "iopub.status.idle": "2023-08-18T07:09:28.217043Z",
          "shell.execute_reply": "2023-08-18T07:09:28.216348Z"
        },
        "origin_pos": 14,
        "tab": [
          "pytorch"
        ],
        "id": "d251b5e9"
      },
      "outputs": [],
      "source": [
        "# 使用RGB通道的均值和标准差，以标准化每个通道\n",
        "normalize = torchvision.transforms.Normalize(\n",
        "    [0.485, 0.456, 0.406], [0.229, 0.224, 0.225])\n",
        "\n",
        "train_augs = torchvision.transforms.Compose([\n",
        "    torchvision.transforms.RandomResizedCrop(224),\n",
        "    torchvision.transforms.RandomHorizontalFlip(),\n",
        "    torchvision.transforms.ToTensor(),\n",
        "    normalize])\n",
        "\n",
        "test_augs = torchvision.transforms.Compose([\n",
        "    torchvision.transforms.Resize([256, 256]),\n",
        "    torchvision.transforms.CenterCrop(224),\n",
        "    torchvision.transforms.ToTensor(),\n",
        "    normalize])"
      ]
    },
    {
      "cell_type": "markdown",
      "id": "1cc832c2",
      "metadata": {
        "origin_pos": 16,
        "id": "1cc832c2"
      },
      "source": [
        "### [**定义和初始化模型**]\n",
        "\n",
        "我们使用在ImageNet数据集上预训练的ResNet-18作为源模型。\n",
        "在这里，我们指定`pretrained=True`以自动下载预训练的模型参数。\n",
        "如果首次使用此模型，则需要连接互联网才能下载。\n"
      ]
    },
    {
      "cell_type": "code",
      "execution_count": null,
      "id": "657aea3e",
      "metadata": {
        "execution": {
          "iopub.execute_input": "2023-08-18T07:09:28.220308Z",
          "iopub.status.busy": "2023-08-18T07:09:28.219814Z",
          "iopub.status.idle": "2023-08-18T07:09:28.558088Z",
          "shell.execute_reply": "2023-08-18T07:09:28.557042Z"
        },
        "origin_pos": 18,
        "tab": [
          "pytorch"
        ],
        "id": "657aea3e"
      },
      "outputs": [],
      "source": [
        "pretrained_net = torchvision.models.resnet18(pretrained=True)"
      ]
    },
    {
      "cell_type": "markdown",
      "id": "b51509e0",
      "metadata": {
        "origin_pos": 21,
        "tab": [
          "pytorch"
        ],
        "id": "b51509e0"
      },
      "source": [
        "预训练的源模型实例包含许多特征层和一个输出层`fc`。\n",
        "此划分的主要目的是促进对除输出层以外所有层的模型参数进行微调。\n",
        "下面给出了源模型的成员变量`fc`。\n"
      ]
    },
    {
      "cell_type": "code",
      "execution_count": null,
      "id": "d622c8fe",
      "metadata": {
        "execution": {
          "iopub.execute_input": "2023-08-18T07:09:28.563119Z",
          "iopub.status.busy": "2023-08-18T07:09:28.562608Z",
          "iopub.status.idle": "2023-08-18T07:09:28.568570Z",
          "shell.execute_reply": "2023-08-18T07:09:28.567682Z"
        },
        "origin_pos": 24,
        "tab": [
          "pytorch"
        ],
        "id": "d622c8fe"
      },
      "outputs": [],
      "source": [
        "pretrained_net.fc"
      ]
    },
    {
      "cell_type": "markdown",
      "id": "82b1edb2",
      "metadata": {
        "origin_pos": 25,
        "id": "82b1edb2"
      },
      "source": [
        "在ResNet的全局平均汇聚层后，全连接层转换为ImageNet数据集的1000个类输出。\n",
        "之后，我们构建一个新的神经网络作为目标模型。\n",
        "它的定义方式与预训练源模型的定义方式相同，只是最终层中的输出数量被设置为目标数据集中的类数（而不是1000个）。\n",
        "\n",
        "在下面的代码中，目标模型`finetune_net`中成员变量`features`的参数被初始化为源模型相应层的模型参数。\n",
        "由于模型参数是在ImageNet数据集上预训练的，并且足够好，因此通常只需要较小的学习率即可微调这些参数。\n",
        "\n",
        "成员变量`output`的参数是随机初始化的，通常需要更高的学习率才能从头开始训练。\n",
        "假设`Trainer`实例中的学习率为$\\eta$，我们将成员变量`output`中参数的学习率设置为$10\\eta$。\n"
      ]
    },
    {
      "cell_type": "code",
      "execution_count": null,
      "id": "18ccccf4",
      "metadata": {
        "execution": {
          "iopub.execute_input": "2023-08-18T07:09:28.572805Z",
          "iopub.status.busy": "2023-08-18T07:09:28.572343Z",
          "iopub.status.idle": "2023-08-18T07:09:28.824724Z",
          "shell.execute_reply": "2023-08-18T07:09:28.823733Z"
        },
        "origin_pos": 27,
        "tab": [
          "pytorch"
        ],
        "id": "18ccccf4"
      },
      "outputs": [],
      "source": [
        "finetune_net = torchvision.models.resnet18(pretrained=True)\n",
        "finetune_net.fc = nn.Linear(finetune_net.fc.in_features, 2)\n",
        "nn.init.xavier_uniform_(finetune_net.fc.weight);"
      ]
    },
    {
      "cell_type": "markdown",
      "id": "d7f20fdb",
      "metadata": {
        "origin_pos": 29,
        "id": "d7f20fdb"
      },
      "source": [
        "### [**微调模型**]\n",
        "\n",
        "首先，我们定义了一个训练函数`train_fine_tuning`，该函数使用微调，因此可以多次调用。\n"
      ]
    },
    {
      "cell_type": "code",
      "execution_count": null,
      "id": "bb911459",
      "metadata": {
        "execution": {
          "iopub.execute_input": "2023-08-18T07:09:28.829772Z",
          "iopub.status.busy": "2023-08-18T07:09:28.829267Z",
          "iopub.status.idle": "2023-08-18T07:09:28.837208Z",
          "shell.execute_reply": "2023-08-18T07:09:28.836270Z"
        },
        "origin_pos": 31,
        "tab": [
          "pytorch"
        ],
        "id": "bb911459"
      },
      "outputs": [],
      "source": [
        "# 如果param_group=True，输出层中的模型参数将使用十倍的学习率\n",
        "def train_fine_tuning(net, learning_rate, batch_size=128, num_epochs=5,\n",
        "                      param_group=True):\n",
        "    train_iter = torch.utils.data.DataLoader(torchvision.datasets.ImageFolder(\n",
        "        os.path.join(data_dir, 'train'), transform=train_augs),\n",
        "        batch_size=batch_size, shuffle=True)\n",
        "    test_iter = torch.utils.data.DataLoader(torchvision.datasets.ImageFolder(\n",
        "        os.path.join(data_dir, 'test'), transform=test_augs),\n",
        "        batch_size=batch_size)\n",
        "    devices = d2l.try_all_gpus()\n",
        "    loss = nn.CrossEntropyLoss(reduction=\"none\")\n",
        "    if param_group:\n",
        "        params_1x = [param for name, param in net.named_parameters()\n",
        "             if name not in [\"fc.weight\", \"fc.bias\"]]\n",
        "        trainer = torch.optim.SGD([{'params': params_1x},\n",
        "                                   {'params': net.fc.parameters(),\n",
        "                                    'lr': learning_rate * 10}],\n",
        "                                lr=learning_rate, weight_decay=0.001)\n",
        "    else:\n",
        "        trainer = torch.optim.SGD(net.parameters(), lr=learning_rate,\n",
        "                                  weight_decay=0.001)\n",
        "    d2l.train_ch13(net, train_iter, test_iter, loss, trainer, num_epochs,\n",
        "                   devices)"
      ]
    },
    {
      "cell_type": "markdown",
      "id": "ca08a322",
      "metadata": {
        "origin_pos": 33,
        "id": "ca08a322"
      },
      "source": [
        "我们[**使用较小的学习率**]，通过*微调*预训练获得的模型参数。\n"
      ]
    },
    {
      "cell_type": "code",
      "execution_count": null,
      "id": "955d840b",
      "metadata": {
        "execution": {
          "iopub.execute_input": "2023-08-18T07:09:28.841211Z",
          "iopub.status.busy": "2023-08-18T07:09:28.840900Z",
          "iopub.status.idle": "2023-08-18T07:10:43.619696Z",
          "shell.execute_reply": "2023-08-18T07:10:43.618758Z"
        },
        "origin_pos": 35,
        "tab": [
          "pytorch"
        ],
        "id": "955d840b"
      },
      "outputs": [],
      "source": [
        "train_fine_tuning(finetune_net, 5e-5)"
      ]
    },
    {
      "cell_type": "markdown",
      "id": "292669f8",
      "metadata": {
        "origin_pos": 36,
        "id": "292669f8"
      },
      "source": [
        "[**为了进行比较，**]我们定义了一个相同的模型，但是将其(**所有模型参数初始化为随机值**)。\n",
        "由于整个模型需要从头开始训练，因此我们需要使用更大的学习率。\n"
      ]
    },
    {
      "cell_type": "code",
      "execution_count": null,
      "id": "4006a8f7",
      "metadata": {
        "execution": {
          "iopub.execute_input": "2023-08-18T07:10:43.623482Z",
          "iopub.status.busy": "2023-08-18T07:10:43.622905Z",
          "iopub.status.idle": "2023-08-18T07:11:54.256773Z",
          "shell.execute_reply": "2023-08-18T07:11:54.255915Z"
        },
        "origin_pos": 38,
        "tab": [
          "pytorch"
        ],
        "id": "4006a8f7"
      },
      "outputs": [],
      "source": [
        "scratch_net = torchvision.models.resnet18()\n",
        "scratch_net.fc = nn.Linear(scratch_net.fc.in_features, 2)\n",
        "train_fine_tuning(scratch_net, 5e-4, param_group=False)"
      ]
    },
    {
      "cell_type": "markdown",
      "id": "c1c87e63",
      "metadata": {
        "origin_pos": 40,
        "id": "c1c87e63"
      },
      "source": [
        "意料之中，微调模型往往表现更好，因为它的初始参数值更有效。\n",
        "\n",
        "## 小结\n",
        "\n",
        "* 迁移学习将从源数据集中学到的知识*迁移*到目标数据集，微调是迁移学习的常见技巧。\n",
        "* 除输出层外，目标模型从源模型中复制所有模型设计及其参数，并根据目标数据集对这些参数进行微调。但是，目标模型的输出层需要从头开始训练。\n",
        "* 通常，微调参数使用较小的学习率，而从头开始训练输出层可以使用更大的学习率。\n",
        "\n",
        "## 练习\n",
        "\n",
        "1. 继续提高`finetune_net`的学习率，模型的准确性如何变化？\n",
        "2. 在比较实验中进一步调整`finetune_net`和`scratch_net`的超参数。它们的准确性还有不同吗？\n",
        "3. 将输出层`finetune_net`之前的参数设置为源模型的参数，在训练期间不要更新它们。模型的准确性如何变化？提示：可以使用以下代码。\n"
      ]
    },
    {
      "cell_type": "code",
      "execution_count": null,
      "id": "83397a47",
      "metadata": {
        "execution": {
          "iopub.execute_input": "2023-08-18T07:11:54.260642Z",
          "iopub.status.busy": "2023-08-18T07:11:54.260057Z",
          "iopub.status.idle": "2023-08-18T07:11:54.264373Z",
          "shell.execute_reply": "2023-08-18T07:11:54.263562Z"
        },
        "origin_pos": 42,
        "tab": [
          "pytorch"
        ],
        "id": "83397a47"
      },
      "outputs": [],
      "source": [
        "for param in finetune_net.parameters():\n",
        "    param.requires_grad = False"
      ]
    },
    {
      "cell_type": "markdown",
      "id": "46fcba55",
      "metadata": {
        "origin_pos": 44,
        "id": "46fcba55"
      },
      "source": [
        "4. 事实上，`ImageNet`数据集中有一个“热狗”类别。我们可以通过以下代码获取其输出层中的相应权重参数，但是我们怎样才能利用这个权重参数？\n"
      ]
    },
    {
      "cell_type": "code",
      "execution_count": null,
      "id": "f2f48879",
      "metadata": {
        "execution": {
          "iopub.execute_input": "2023-08-18T07:11:54.267934Z",
          "iopub.status.busy": "2023-08-18T07:11:54.267262Z",
          "iopub.status.idle": "2023-08-18T07:11:54.274070Z",
          "shell.execute_reply": "2023-08-18T07:11:54.273270Z"
        },
        "origin_pos": 46,
        "tab": [
          "pytorch"
        ],
        "id": "f2f48879"
      },
      "outputs": [],
      "source": [
        "weight = pretrained_net.fc.weight\n",
        "hotdog_w = torch.split(weight.data, 1, dim=0)[934]\n",
        "hotdog_w.shape"
      ]
    },
    {
      "cell_type": "markdown",
      "id": "e6efed0c",
      "metadata": {
        "origin_pos": 49,
        "tab": [
          "pytorch"
        ],
        "id": "e6efed0c"
      },
      "source": [
        "[Discussions](https://discuss.d2l.ai/t/2894)\n"
      ]
    }
  ],
  "metadata": {
    "accelerator": "GPU",
    "kernelspec": {
      "display_name": "Python 3",
      "name": "python3"
    },
    "language_info": {
      "name": "python"
    },
    "required_libs": [],
    "colab": {
      "provenance": []
    }
  },
  "nbformat": 4,
  "nbformat_minor": 5
}