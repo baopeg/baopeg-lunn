{
 "cells": [
  {
   "cell_type": "code",
   "execution_count": 1,
   "id": "7251b14e",
   "metadata": {},
   "outputs": [],
   "source": [
    "import torch\n",
    "import torch.nn as nn\n",
    "import torch.optim as optim\n",
    "from torch.utils.data import DataLoader\n",
    "from torchvision import datasets, transforms\n",
    "from tqdm import tqdm\n",
    "from ResNet import ResNet18\n",
    "import matplotlib.pyplot as plt\n",
    "import numpy as np"
   ]
  },
  {
   "cell_type": "code",
   "execution_count": 2,
   "id": "3bc7e17d",
   "metadata": {},
   "outputs": [],
   "source": [
    "# 1. 数据准备\n",
    "def prepare_data(batch_size=32):\n",
    "    transform = transforms.Compose([\n",
    "        transforms.Resize(224),  # 直接调整为224x224\n",
    "        transforms.RandomHorizontalFlip(),\n",
    "        transforms.RandomRotation(15),\n",
    "        transforms.ToTensor(),\n",
    "        transforms.Normalize(mean=[0.485, 0.456, 0.406], std=[0.229, 0.224, 0.225])\n",
    "    ])\n",
    "    \n",
    "    train_data = datasets.CIFAR10(root='./data', train=True, download=True, transform=transform)\n",
    "    val_data = datasets.CIFAR10(root='./data', train=False, download=True, transform=transform)\n",
    "    \n",
    "    train_loader = DataLoader(train_data, batch_size=batch_size, shuffle=True)\n",
    "    val_loader = DataLoader(val_data, batch_size=batch_size)\n",
    "    return train_loader, val_loader\n"
   ]
  },
  {
   "cell_type": "code",
   "execution_count": 3,
   "id": "49fc35bc",
   "metadata": {},
   "outputs": [],
   "source": [
    "\n",
    "def train_model(model, train_loader, val_loader, epochs=20, lr=0.001):\n",
    "    device = torch.device(\"cuda\" if torch.cuda.is_available() else \"cpu\")\n",
    "    print(device)\n",
    "    model = model.to(device)\n",
    "    \n",
    "    criterion = nn.CrossEntropyLoss()\n",
    "    # optimizer = optim.Adam(model.parameters(), lr=lr,weight_decay=1e-4) #l2正则\n",
    "    # scheduler = optim.lr_scheduler.ReduceLROnPlateau(optimizer, 'max', patience=2)  # 动态学习率\n",
    "    optimizer = optim.SGD(model.parameters(), lr=0.1, momentum=0.9, weight_decay=5e-4)  # 改用SGD\n",
    "    scheduler = optim.lr_scheduler.MultiStepLR(optimizer, milestones=[5, 8], gamma=0.1)  # 阶梯式学习率\n",
    "    \n",
    "    \n",
    "    best_val_acc = 0\n",
    "    early_stop_counter = 0\n",
    "    \n",
    "    # 初始化记录器\n",
    "    history = {\n",
    "        'train_loss': [],\n",
    "        'train_acc': [],\n",
    "        'val_loss': [],\n",
    "        'val_acc': []\n",
    "    }\n",
    "    for epoch in range(epochs):\n",
    "        # 训练阶段\n",
    "        model.train()\n",
    "        train_loss, correct = 0, 0\n",
    "        for inputs, labels in tqdm(train_loader, desc=f\"Epoch {epoch+1}/{epochs}\"):\n",
    "            # 数据增强\n",
    "            # inputs = transforms.RandomHorizontalFlip()(inputs)  # 随机水平翻转\n",
    "            # inputs = transforms.ColorJitter(brightness=0.2, contrast=0.2)(inputs)\n",
    "            \n",
    "            inputs, labels = inputs.to(device), labels.to(device)\n",
    "            \n",
    "            optimizer.zero_grad()\n",
    "            outputs = model(inputs)\n",
    "            loss = criterion(outputs, labels)\n",
    "            loss.backward()\n",
    "            optimizer.step()\n",
    "            scheduler.step()  # 更新学习率\n",
    "            train_loss += loss.item()\n",
    "            correct += (outputs.argmax(1) == labels).sum().item()\n",
    "            \n",
    "        model.eval()\n",
    "        val_loss, val_correct = 0, 0\n",
    "        with torch.no_grad():\n",
    "            for inputs, labels in val_loader:\n",
    "                inputs, labels = inputs.to(device), labels.to(device)\n",
    "                outputs = model(inputs)\n",
    "                val_loss += criterion(outputs, labels).item()\n",
    "                val_correct += (outputs.argmax(1) == labels).sum().item()\n",
    "                \n",
    "                 # 早停机制\n",
    "            if val_correct/len(val_loader.dataset) > best_val_acc:\n",
    "                best_val_acc = val_correct/len(val_loader.dataset)\n",
    "                early_stop_counter = 0\n",
    "                torch.save(model.state_dict(), 'best_model.pth')\n",
    "            else:\n",
    "                early_stop_counter += 1\n",
    "                if early_stop_counter >= 3:  # 3轮无提升则停止\n",
    "                    print(\"Early stopping triggered\")\n",
    "                    break\n",
    "        \n",
    "      \n",
    "        \n",
    "         \n",
    "    # 修改记录指标部分\n",
    "        history['train_acc'].append(correct/len(train_loader.dataset))\n",
    "        history['val_acc'].append(val_correct/len(val_loader.dataset))\n",
    "\n",
    "    # 修改打印部分\n",
    "        print(f\"\\nTrain Loss: {train_loss/len(train_loader):.4f} | \"\n",
    "          f\"Train Acc: {correct/len(train_loader.dataset)*100:.2f}%\")\n",
    "        print(f\"Val Loss: {val_loss/len(val_loader):.4f} | \"\n",
    "          f\"Val Acc: {val_correct/len(val_loader.dataset)*100:.2f}%\")\n",
    "            # 记录指标\n",
    "        history['train_loss'].append(train_loss/len(train_loader))\n",
    "        history['val_loss'].append(val_loss/len(val_loader))\n",
    " \n",
    "        \n",
    "\n",
    "    \n",
    "    # 可视化训练过程\n",
    "    plt.figure(figsize=(12, 4))\n",
    "    \n",
    "    plt.subplot(1, 2, 1)\n",
    "    plt.plot(history['train_loss'], label='Train')\n",
    "    plt.plot(history['val_loss'], label='Validation')\n",
    "    plt.title('Loss Curve')\n",
    "    plt.xlabel('Epoch')\n",
    "    plt.ylabel('Loss')\n",
    "    plt.legend()\n",
    "    \n",
    "    plt.subplot(1, 2, 2)\n",
    "    plt.plot(history['train_acc'], label='Train')\n",
    "    plt.plot(history['val_acc'], label='Validation')\n",
    "    plt.title('Accuracy Curve')\n",
    "    plt.xlabel('Epoch')\n",
    "    plt.ylabel('Accuracy')\n",
    "    plt.legend()\n",
    "    \n",
    "    plt.tight_layout()\n",
    "    plt.show()\n",
    "    \n",
    "    scheduler.step(val_correct/len(val_loader.dataset))\n",
    "        \n",
    "       \n",
    "    \n",
    "    return history\n"
   ]
  },
  {
   "cell_type": "code",
   "execution_count": 4,
   "id": "3b8ab984",
   "metadata": {},
   "outputs": [
    {
     "name": "stdout",
     "output_type": "stream",
     "text": [
      "cuda\n"
     ]
    },
    {
     "name": "stderr",
     "output_type": "stream",
     "text": [
      "Epoch 1/20: 100%|██████████| 1563/1563 [01:57<00:00, 13.26it/s]\n"
     ]
    },
    {
     "name": "stdout",
     "output_type": "stream",
     "text": [
      "\n",
      "Train Loss: 1.9550 | Train Acc: 31.49%\n",
      "Val Loss: 1.5384 | Val Acc: 43.07%\n"
     ]
    },
    {
     "name": "stderr",
     "output_type": "stream",
     "text": [
      "Epoch 2/20: 100%|██████████| 1563/1563 [01:58<00:00, 13.23it/s]\n"
     ]
    },
    {
     "name": "stdout",
     "output_type": "stream",
     "text": [
      "\n",
      "Train Loss: 1.4466 | Train Acc: 46.89%\n",
      "Val Loss: 1.2911 | Val Acc: 53.02%\n"
     ]
    },
    {
     "name": "stderr",
     "output_type": "stream",
     "text": [
      "Epoch 3/20: 100%|██████████| 1563/1563 [01:58<00:00, 13.20it/s]\n"
     ]
    },
    {
     "name": "stdout",
     "output_type": "stream",
     "text": [
      "\n",
      "Train Loss: 1.2019 | Train Acc: 56.68%\n",
      "Val Loss: 1.0384 | Val Acc: 62.37%\n"
     ]
    },
    {
     "name": "stderr",
     "output_type": "stream",
     "text": [
      "Epoch 4/20: 100%|██████████| 1563/1563 [01:58<00:00, 13.19it/s]\n"
     ]
    },
    {
     "name": "stdout",
     "output_type": "stream",
     "text": [
      "\n",
      "Train Loss: 1.0039 | Train Acc: 64.43%\n",
      "Val Loss: 0.9551 | Val Acc: 65.80%\n"
     ]
    },
    {
     "name": "stderr",
     "output_type": "stream",
     "text": [
      "Epoch 5/20: 100%|██████████| 1563/1563 [01:59<00:00, 13.04it/s]\n"
     ]
    },
    {
     "name": "stdout",
     "output_type": "stream",
     "text": [
      "\n",
      "Train Loss: 0.8698 | Train Acc: 69.47%\n",
      "Val Loss: 0.8598 | Val Acc: 70.55%\n"
     ]
    },
    {
     "name": "stderr",
     "output_type": "stream",
     "text": [
      "Epoch 6/20: 100%|██████████| 1563/1563 [01:59<00:00, 13.08it/s]\n"
     ]
    },
    {
     "name": "stdout",
     "output_type": "stream",
     "text": [
      "\n",
      "Train Loss: 0.7602 | Train Acc: 73.33%\n",
      "Val Loss: 0.7100 | Val Acc: 74.68%\n"
     ]
    },
    {
     "name": "stderr",
     "output_type": "stream",
     "text": [
      "Epoch 7/20: 100%|██████████| 1563/1563 [01:58<00:00, 13.19it/s]\n"
     ]
    },
    {
     "name": "stdout",
     "output_type": "stream",
     "text": [
      "\n",
      "Train Loss: 0.6694 | Train Acc: 76.59%\n",
      "Val Loss: 0.6460 | Val Acc: 77.88%\n"
     ]
    },
    {
     "name": "stderr",
     "output_type": "stream",
     "text": [
      "Epoch 8/20: 100%|██████████| 1563/1563 [01:56<00:00, 13.36it/s]\n"
     ]
    },
    {
     "name": "stdout",
     "output_type": "stream",
     "text": [
      "\n",
      "Train Loss: 0.6034 | Train Acc: 79.00%\n",
      "Val Loss: 0.6274 | Val Acc: 77.79%\n"
     ]
    },
    {
     "name": "stderr",
     "output_type": "stream",
     "text": [
      "Epoch 9/20: 100%|██████████| 1563/1563 [01:57<00:00, 13.34it/s]\n"
     ]
    },
    {
     "name": "stdout",
     "output_type": "stream",
     "text": [
      "\n",
      "Train Loss: 0.5469 | Train Acc: 81.05%\n",
      "Val Loss: 0.5586 | Val Acc: 80.65%\n"
     ]
    },
    {
     "name": "stderr",
     "output_type": "stream",
     "text": [
      "Epoch 10/20: 100%|██████████| 1563/1563 [01:58<00:00, 13.24it/s]\n"
     ]
    },
    {
     "name": "stdout",
     "output_type": "stream",
     "text": [
      "\n",
      "Train Loss: 0.4968 | Train Acc: 82.85%\n",
      "Val Loss: 0.5505 | Val Acc: 81.27%\n"
     ]
    },
    {
     "name": "stderr",
     "output_type": "stream",
     "text": [
      "Epoch 11/20: 100%|██████████| 1563/1563 [01:58<00:00, 13.20it/s]\n"
     ]
    },
    {
     "name": "stdout",
     "output_type": "stream",
     "text": [
      "\n",
      "Train Loss: 0.4596 | Train Acc: 84.05%\n",
      "Val Loss: 0.5193 | Val Acc: 82.69%\n"
     ]
    },
    {
     "name": "stderr",
     "output_type": "stream",
     "text": [
      "Epoch 12/20: 100%|██████████| 1563/1563 [01:57<00:00, 13.35it/s]\n"
     ]
    },
    {
     "name": "stdout",
     "output_type": "stream",
     "text": [
      "\n",
      "Train Loss: 0.4300 | Train Acc: 85.18%\n",
      "Val Loss: 0.4889 | Val Acc: 83.39%\n"
     ]
    },
    {
     "name": "stderr",
     "output_type": "stream",
     "text": [
      "Epoch 13/20: 100%|██████████| 1563/1563 [01:59<00:00, 13.06it/s]\n"
     ]
    },
    {
     "name": "stdout",
     "output_type": "stream",
     "text": [
      "\n",
      "Train Loss: 0.3990 | Train Acc: 86.22%\n",
      "Val Loss: 0.4771 | Val Acc: 83.42%\n"
     ]
    },
    {
     "name": "stderr",
     "output_type": "stream",
     "text": [
      "Epoch 14/20: 100%|██████████| 1563/1563 [01:57<00:00, 13.28it/s]\n"
     ]
    },
    {
     "name": "stdout",
     "output_type": "stream",
     "text": [
      "\n",
      "Train Loss: 0.3683 | Train Acc: 87.15%\n",
      "Val Loss: 0.4512 | Val Acc: 84.48%\n"
     ]
    },
    {
     "name": "stderr",
     "output_type": "stream",
     "text": [
      "Epoch 15/20: 100%|██████████| 1563/1563 [01:58<00:00, 13.24it/s]\n"
     ]
    },
    {
     "name": "stdout",
     "output_type": "stream",
     "text": [
      "\n",
      "Train Loss: 0.3439 | Train Acc: 88.17%\n",
      "Val Loss: 0.4480 | Val Acc: 84.66%\n"
     ]
    },
    {
     "name": "stderr",
     "output_type": "stream",
     "text": [
      "Epoch 16/20: 100%|██████████| 1563/1563 [01:58<00:00, 13.17it/s]\n"
     ]
    },
    {
     "name": "stdout",
     "output_type": "stream",
     "text": [
      "\n",
      "Train Loss: 0.3199 | Train Acc: 88.97%\n",
      "Val Loss: 0.4089 | Val Acc: 85.93%\n"
     ]
    },
    {
     "name": "stderr",
     "output_type": "stream",
     "text": [
      "Epoch 17/20: 100%|██████████| 1563/1563 [01:58<00:00, 13.23it/s]\n"
     ]
    },
    {
     "name": "stdout",
     "output_type": "stream",
     "text": [
      "\n",
      "Train Loss: 0.3018 | Train Acc: 89.48%\n",
      "Val Loss: 0.4348 | Val Acc: 85.01%\n"
     ]
    },
    {
     "name": "stderr",
     "output_type": "stream",
     "text": [
      "Epoch 18/20: 100%|██████████| 1563/1563 [01:58<00:00, 13.21it/s]\n"
     ]
    },
    {
     "name": "stdout",
     "output_type": "stream",
     "text": [
      "\n",
      "Train Loss: 0.2838 | Train Acc: 90.14%\n",
      "Val Loss: 0.4072 | Val Acc: 86.01%\n"
     ]
    },
    {
     "name": "stderr",
     "output_type": "stream",
     "text": [
      "Epoch 19/20: 100%|██████████| 1563/1563 [01:59<00:00, 13.10it/s]\n"
     ]
    },
    {
     "name": "stdout",
     "output_type": "stream",
     "text": [
      "\n",
      "Train Loss: 0.2638 | Train Acc: 90.78%\n",
      "Val Loss: 0.4524 | Val Acc: 85.04%\n"
     ]
    },
    {
     "name": "stderr",
     "output_type": "stream",
     "text": [
      "Epoch 20/20: 100%|██████████| 1563/1563 [01:59<00:00, 13.04it/s]\n"
     ]
    },
    {
     "name": "stdout",
     "output_type": "stream",
     "text": [
      "\n",
      "Train Loss: 0.2455 | Train Acc: 91.62%\n",
      "Val Loss: 0.4426 | Val Acc: 85.36%\n"
     ]
    },
    {
     "data": {
      "image/png": "[encoded data removed]",
      "text/plain": [
       "<Figure size 1200x400 with 2 Axes>"
      ]
     },
     "metadata": {},
     "output_type": "display_data"
    },
    {
     "name": "stderr",
     "output_type": "stream",
     "text": [
      "/root/miniconda3/lib/python3.10/site-packages/torch/optim/lr_scheduler.py:198: UserWarning: The epoch parameter in `scheduler.step()` was not necessary and is being deprecated where possible. Please use `scheduler.step()` to step the scheduler. During the deprecation, if epoch is different from None, the closed form is used instead of the new chainable form, where available. Please open an issue if you are unable to replicate your use case: https://github.com/pytorch/pytorch/issues/new/choose.\n",
      "  warnings.warn(EPOCH_DEPRECATION_WARNING, UserWarning)\n"
     ]
    },
    {
     "data": {
      "text/plain": [
       "{'train_loss': [1.9550359754782034,\n",
       "  1.44658139815181,\n",
       "  1.201940739109054,\n",
       "  1.0038683645174584,\n",
       "  0.8698179866553726,\n",
       "  0.7601948504408277,\n",
       "  0.6694191036434869,\n",
       "  0.603364233807044,\n",
       "  0.5468731887462196,\n",
       "  0.49677296934300175,\n",
       "  0.4596076896479705,\n",
       "  0.43001291199193425,\n",
       "  0.3990197136988643,\n",
       "  0.36830698904686837,\n",
       "  0.3438869348666985,\n",
       "  0.3199018456222953,\n",
       "  0.30180321584955594,\n",
       "  0.28379564004654084,\n",
       "  0.26377339989080384,\n",
       "  0.24548031430946507],\n",
       " 'train_acc': [0.31488,\n",
       "  0.4689,\n",
       "  0.56682,\n",
       "  0.6443,\n",
       "  0.69466,\n",
       "  0.73326,\n",
       "  0.76594,\n",
       "  0.79,\n",
       "  0.81052,\n",
       "  0.82848,\n",
       "  0.8405,\n",
       "  0.85176,\n",
       "  0.86216,\n",
       "  0.8715,\n",
       "  0.8817,\n",
       "  0.88974,\n",
       "  0.8948,\n",
       "  0.90136,\n",
       "  0.90778,\n",
       "  0.9162],\n",
       " 'val_loss': [1.5383558227612188,\n",
       "  1.2910622819163167,\n",
       "  1.0383998509793997,\n",
       "  0.9550814563854815,\n",
       "  0.859773467333553,\n",
       "  0.7099937353842556,\n",
       "  0.6459993120199575,\n",
       "  0.6273606647127352,\n",
       "  0.5585901159733629,\n",
       "  0.5504915522405515,\n",
       "  0.5193060764584678,\n",
       "  0.4888854786610832,\n",
       "  0.4770731073313247,\n",
       "  0.4512396410060005,\n",
       "  0.4480480025894345,\n",
       "  0.40892522277447363,\n",
       "  0.43475265722400463,\n",
       "  0.40724283427047653,\n",
       "  0.4524059105224122,\n",
       "  0.4426423642582025],\n",
       " 'val_acc': [0.4307,\n",
       "  0.5302,\n",
       "  0.6237,\n",
       "  0.658,\n",
       "  0.7055,\n",
       "  0.7468,\n",
       "  0.7788,\n",
       "  0.7779,\n",
       "  0.8065,\n",
       "  0.8127,\n",
       "  0.8269,\n",
       "  0.8339,\n",
       "  0.8342,\n",
       "  0.8448,\n",
       "  0.8466,\n",
       "  0.8593,\n",
       "  0.8501,\n",
       "  0.8601,\n",
       "  0.8504,\n",
       "  0.8536]}"
      ]
     },
     "execution_count": 4,
     "metadata": {},
     "output_type": "execute_result"
    }
   ],
   "source": [
    "model = ResNet18(num_classes=10)\n",
    "train_loader, val_loader = prepare_data()\n",
    "    \n",
    " # 开始训练\n",
    "train_model(model, train_loader, val_loader, epochs=20)"
   ]
  },
  {
   "cell_type": "code",
   "execution_count": null,
   "id": "ad4f795a-ab1f-4ebb-969d-dc27e1d3ed9c",
   "metadata": {},
   "outputs": [],
   "source": []
  }
 ],
 "metadata": {
  "kernelspec": {
   "display_name": "Python 3 (ipykernel)",
   "language": "python",
   "name": "python3"
  },
  "language_info": {
   "codemirror_mode": {
    "name": "ipython",
    "version": 3
   },
   "file_extension": ".py",
   "mimetype": "text/x-python",
   "name": "python",
   "nbconvert_exporter": "python",
   "pygments_lexer": "ipython3",
   "version": "3.10.8"
  }
 },
 "nbformat": 4,
 "nbformat_minor": 5
}
