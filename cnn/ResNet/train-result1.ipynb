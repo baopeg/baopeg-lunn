{
 "cells": [
  {
   "cell_type": "markdown",
   "id": "19d5f747",
   "metadata": {},
   "source": [
    "# AI初始化生成训练策略，结果没法看"
   ]
  },
  {
   "cell_type": "code",
   "execution_count": 1,
   "id": "7251b14e",
   "metadata": {},
   "outputs": [],
   "source": [
    "import torch\n",
    "import torch.nn as nn\n",
    "import torch.optim as optim\n",
    "from torch.utils.data import DataLoader\n",
    "from torchvision import datasets, transforms\n",
    "from tqdm import tqdm\n",
    "from ResNet import ResNet18\n",
    "import matplotlib.pyplot as plt\n",
    "import numpy as np"
   ]
  },
  {
   "cell_type": "code",
   "execution_count": 2,
   "id": "3bc7e17d",
   "metadata": {},
   "outputs": [],
   "source": [
    "# 1. 数据准备\n",
    "def prepare_data(batch_size=32):\n",
    "    transform = transforms.Compose([\n",
    "        transforms.Resize(256),\n",
    "        transforms.CenterCrop(224),\n",
    "        transforms.ToTensor(),\n",
    "        transforms.Normalize(mean=[0.485, 0.456, 0.406], std=[0.229, 0.224, 0.225])\n",
    "    ])\n",
    "    \n",
    "    train_data = datasets.CIFAR10(root='./data', train=True, download=True, transform=transform)\n",
    "    val_data = datasets.CIFAR10(root='./data', train=False, download=True, transform=transform)\n",
    "    \n",
    "    train_loader = DataLoader(train_data, batch_size=batch_size, shuffle=True)\n",
    "    val_loader = DataLoader(val_data, batch_size=batch_size)\n",
    "    return train_loader, val_loader\n"
   ]
  },
  {
   "cell_type": "code",
   "execution_count": 3,
   "id": "49fc35bc",
   "metadata": {},
   "outputs": [],
   "source": [
    "\n",
    "def train_model(model, train_loader, val_loader, epochs=10, lr=0.001):\n",
    "    device = torch.device(\"cuda\" if torch.cuda.is_available() else \"cpu\")\n",
    "    model = model.to(device)\n",
    "    \n",
    "    criterion = nn.CrossEntropyLoss()\n",
    "    optimizer = optim.Adam(model.parameters(), lr=lr)\n",
    "    \n",
    "    # 初始化记录器\n",
    "    history = {\n",
    "        'train_loss': [],\n",
    "        'train_acc': [],\n",
    "        'val_loss': [],\n",
    "        'val_acc': []\n",
    "    }\n",
    "    for epoch in range(epochs):\n",
    "        # 训练阶段\n",
    "        model.train()\n",
    "        train_loss, correct = 0, 0\n",
    "        for inputs, labels in tqdm(train_loader, desc=f\"Epoch {epoch+1}/{epochs}\"):\n",
    "            inputs, labels = inputs.to(device), labels.to(device)\n",
    "            \n",
    "            optimizer.zero_grad()\n",
    "            outputs = model(inputs)\n",
    "            loss = criterion(outputs, labels)\n",
    "            loss.backward()\n",
    "            optimizer.step()\n",
    "            \n",
    "            train_loss += loss.item()\n",
    "            correct += (outputs.argmax(1) == labels).sum().item()\n",
    "            \n",
    "        model.eval()\n",
    "        val_loss, val_correct = 0, 0\n",
    "        with torch.no_grad():\n",
    "            for inputs, labels in val_loader:\n",
    "                inputs, labels = inputs.to(device), labels.to(device)\n",
    "                outputs = model(inputs)\n",
    "                val_loss += criterion(outputs, labels).item()\n",
    "                val_correct += (outputs.argmax(1) == labels).sum().item()\n",
    "        \n",
    "        # 打印统计信息\n",
    "            # 修改统计信息打印部分\n",
    "        # print(f\"\\nTrain Loss: {train_loss/len(train_loader):.4f} | \"\n",
    "          # f\"Train Acc: {correct/len(train_loader.dataset)*100:.2f}%\")\n",
    "        # print(f\"Val Loss: {val_loss/len(val_loader):.4f} | \"\n",
    "          # f\"Val Acc: {val_correct/len(val_loader.dataset)*100:.2f}%\")\n",
    "        \n",
    "         \n",
    "    # 修改记录指标部分\n",
    "        history['train_acc'].append(correct/len(train_loader.dataset))\n",
    "        history['val_acc'].append(val_correct/len(val_loader.dataset))\n",
    "\n",
    "    # 修改打印部分\n",
    "        print(f\"\\nTrain Loss: {train_loss/len(train_loader):.4f} | \"\n",
    "          f\"Train Acc: {correct/len(train_loader.dataset)*100:.2f}%\")\n",
    "        print(f\"Val Loss: {val_loss/len(val_loader):.4f} | \"\n",
    "          f\"Val Acc: {val_correct/len(val_loader.dataset)*100:.2f}%\")\n",
    "            # 记录指标\n",
    "        history['train_loss'].append(train_loss/len(train_loader))\n",
    "        # history['train_acc'].append(correct/len(train_data))\n",
    "        history['val_loss'].append(val_loss/len(val_loader))\n",
    "        # history['val_acc'].append(val_correct/len(val_data))\n",
    "        \n",
    "        # 打印统计信息\n",
    "#         print(f\"\\nTrain Loss: {history['train_loss'][-1]:.4f} | \"\n",
    "#               f\"Train Acc: {history['train_acc'][-1]*100:.2f}%\")\n",
    "#         print(f\"Val Loss: {history['val_loss'][-1]:.4f} | \"\n",
    "#               f\"Val Acc: {history['val_acc'][-1]*100:.2f}%\")\n",
    "    \n",
    "    # 可视化训练过程\n",
    "    plt.figure(figsize=(12, 4))\n",
    "    \n",
    "    plt.subplot(1, 2, 1)\n",
    "    plt.plot(history['train_loss'], label='Train')\n",
    "    plt.plot(history['val_loss'], label='Validation')\n",
    "    plt.title('Loss Curve')\n",
    "    plt.xlabel('Epoch')\n",
    "    plt.ylabel('Loss')\n",
    "    plt.legend()\n",
    "    \n",
    "    plt.subplot(1, 2, 2)\n",
    "    plt.plot(history['train_acc'], label='Train')\n",
    "    plt.plot(history['val_acc'], label='Validation')\n",
    "    plt.title('Accuracy Curve')\n",
    "    plt.xlabel('Epoch')\n",
    "    plt.ylabel('Accuracy')\n",
    "    plt.legend()\n",
    "    \n",
    "    plt.tight_layout()\n",
    "    plt.show()\n",
    "    \n",
    "    return history\n"
   ]
  },
  {
   "cell_type": "code",
   "execution_count": 4,
   "id": "3b8ab984",
   "metadata": {},
   "outputs": [
    {
     "name": "stderr",
     "output_type": "stream",
     "text": [
      "Epoch 1/10: 100%|██████████| 1563/1563 [01:52<00:00, 13.90it/s]\n"
     ]
    },
    {
     "name": "stdout",
     "output_type": "stream",
     "text": [
      "\n",
      "Train Loss: 1.4497 | Train Acc: 46.87%\n",
      "Val Loss: 1.1031 | Val Acc: 61.65%\n"
     ]
    },
    {
     "name": "stderr",
     "output_type": "stream",
     "text": [
      "Epoch 2/10: 100%|██████████| 1563/1563 [01:50<00:00, 14.13it/s]\n"
     ]
    },
    {
     "name": "stdout",
     "output_type": "stream",
     "text": [
      "\n",
      "Train Loss: 0.8652 | Train Acc: 69.65%\n",
      "Val Loss: 0.7794 | Val Acc: 73.01%\n"
     ]
    },
    {
     "name": "stderr",
     "output_type": "stream",
     "text": [
      "Epoch 3/10: 100%|██████████| 1563/1563 [01:51<00:00, 13.99it/s]\n"
     ]
    },
    {
     "name": "stdout",
     "output_type": "stream",
     "text": [
      "\n",
      "Train Loss: 0.6566 | Train Acc: 77.34%\n",
      "Val Loss: 0.6270 | Val Acc: 78.50%\n"
     ]
    },
    {
     "name": "stderr",
     "output_type": "stream",
     "text": [
      "Epoch 4/10: 100%|██████████| 1563/1563 [01:51<00:00, 14.03it/s]\n"
     ]
    },
    {
     "name": "stdout",
     "output_type": "stream",
     "text": [
      "\n",
      "Train Loss: 0.5234 | Train Acc: 81.89%\n",
      "Val Loss: 0.6011 | Val Acc: 79.58%\n"
     ]
    },
    {
     "name": "stderr",
     "output_type": "stream",
     "text": [
      "Epoch 5/10: 100%|██████████| 1563/1563 [01:50<00:00, 14.09it/s]\n"
     ]
    },
    {
     "name": "stdout",
     "output_type": "stream",
     "text": [
      "\n",
      "Train Loss: 0.4210 | Train Acc: 85.42%\n",
      "Val Loss: 0.5779 | Val Acc: 80.15%\n"
     ]
    },
    {
     "name": "stderr",
     "output_type": "stream",
     "text": [
      "Epoch 6/10: 100%|██████████| 1563/1563 [01:51<00:00, 14.02it/s]\n"
     ]
    },
    {
     "name": "stdout",
     "output_type": "stream",
     "text": [
      "\n",
      "Train Loss: 0.3226 | Train Acc: 88.86%\n",
      "Val Loss: 0.5512 | Val Acc: 82.02%\n"
     ]
    },
    {
     "name": "stderr",
     "output_type": "stream",
     "text": [
      "Epoch 7/10: 100%|██████████| 1563/1563 [01:51<00:00, 14.02it/s]\n"
     ]
    },
    {
     "name": "stdout",
     "output_type": "stream",
     "text": [
      "\n",
      "Train Loss: 0.2288 | Train Acc: 91.90%\n",
      "Val Loss: 0.5664 | Val Acc: 82.79%\n"
     ]
    },
    {
     "name": "stderr",
     "output_type": "stream",
     "text": [
      "Epoch 8/10: 100%|██████████| 1563/1563 [01:51<00:00, 13.97it/s]\n"
     ]
    },
    {
     "name": "stdout",
     "output_type": "stream",
     "text": [
      "\n",
      "Train Loss: 0.1659 | Train Acc: 94.09%\n",
      "Val Loss: 0.6378 | Val Acc: 82.21%\n"
     ]
    },
    {
     "name": "stderr",
     "output_type": "stream",
     "text": [
      "Epoch 9/10: 100%|██████████| 1563/1563 [01:51<00:00, 14.05it/s]\n"
     ]
    },
    {
     "name": "stdout",
     "output_type": "stream",
     "text": [
      "\n",
      "Train Loss: 0.1209 | Train Acc: 95.68%\n",
      "Val Loss: 0.6225 | Val Acc: 83.01%\n"
     ]
    },
    {
     "name": "stderr",
     "output_type": "stream",
     "text": [
      "Epoch 10/10: 100%|██████████| 1563/1563 [01:50<00:00, 14.12it/s]\n"
     ]
    },
    {
     "name": "stdout",
     "output_type": "stream",
     "text": [
      "\n",
      "Train Loss: 0.0939 | Train Acc: 96.69%\n",
      "Val Loss: 0.6612 | Val Acc: 83.31%\n"
     ]
    },
    {
     "data": {
      "image/png": "[encoded data removed]",
      "text/plain": [
       "<Figure size 1200x400 with 2 Axes>"
      ]
     },
     "metadata": {},
     "output_type": "display_data"
    },
    {
     "data": {
      "text/plain": [
       "{'train_loss': [1.4496695034715965,\n",
       "  0.8652272201736082,\n",
       "  0.6566059387843729,\n",
       "  0.5233822991393425,\n",
       "  0.42095662713031773,\n",
       "  0.32263283191519293,\n",
       "  0.22883298263068164,\n",
       "  0.16586889896210538,\n",
       "  0.12085283666215146,\n",
       "  0.09391616238802504],\n",
       " 'train_acc': [0.46868,\n",
       "  0.69654,\n",
       "  0.77336,\n",
       "  0.81894,\n",
       "  0.85416,\n",
       "  0.8886,\n",
       "  0.91902,\n",
       "  0.94092,\n",
       "  0.95682,\n",
       "  0.9669],\n",
       " 'val_loss': [1.103120981504361,\n",
       "  0.7793921762571548,\n",
       "  0.6270036317003421,\n",
       "  0.6011465193269352,\n",
       "  0.5778757411831865,\n",
       "  0.5512149342523215,\n",
       "  0.5664242763345996,\n",
       "  0.6378021911560251,\n",
       "  0.6225279535824498,\n",
       "  0.6612338575120932],\n",
       " 'val_acc': [0.6165,\n",
       "  0.7301,\n",
       "  0.785,\n",
       "  0.7958,\n",
       "  0.8015,\n",
       "  0.8202,\n",
       "  0.8279,\n",
       "  0.8221,\n",
       "  0.8301,\n",
       "  0.8331]}"
      ]
     },
     "execution_count": 4,
     "metadata": {},
     "output_type": "execute_result"
    }
   ],
   "source": [
    "model = ResNet18(num_classes=10)\n",
    "train_loader, val_loader = prepare_data()\n",
    "    \n",
    " # 开始训练\n",
    "train_model(model, train_loader, val_loader, epochs=10)"
   ]
  },
  {
   "cell_type": "code",
   "execution_count": null,
   "id": "ad4f795a-ab1f-4ebb-969d-dc27e1d3ed9c",
   "metadata": {},
   "outputs": [],
   "source": []
  }
 ],
 "metadata": {
  "kernelspec": {
   "display_name": "Python 3 (ipykernel)",
   "language": "python",
   "name": "python3"
  },
  "language_info": {
   "codemirror_mode": {
    "name": "ipython",
    "version": 3
   },
   "file_extension": ".py",
   "mimetype": "text/x-python",
   "name": "python",
   "nbconvert_exporter": "python",
   "pygments_lexer": "ipython3",
   "version": "3.10.8"
  }
 },
 "nbformat": 4,
 "nbformat_minor": 5
}
