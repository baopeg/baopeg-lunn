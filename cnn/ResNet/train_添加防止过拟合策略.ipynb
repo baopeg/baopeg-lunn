{
 "cells": [
  {
   "cell_type": "code",
   "execution_count": 1,
   "id": "7251b14e",
   "metadata": {},
   "outputs": [],
   "source": [
    "import torch\n",
    "import torch.nn as nn\n",
    "import torch.optim as optim\n",
    "from torch.utils.data import DataLoader\n",
    "from torchvision import datasets, transforms\n",
    "from tqdm import tqdm\n",
    "from ResNet import ResNet18\n",
    "import matplotlib.pyplot as plt\n",
    "import numpy as np"
   ]
  },
  {
   "cell_type": "code",
   "execution_count": 2,
   "id": "3bc7e17d",
   "metadata": {},
   "outputs": [],
   "source": [
    "# 1. 数据准备\n",
    "def prepare_data(batch_size=32):\n",
    "    transform = transforms.Compose([\n",
    "        transforms.Resize(224),  # 直接调整为224x224\n",
    "        transforms.RandomHorizontalFlip(),\n",
    "        transforms.RandomRotation(15),\n",
    "        transforms.ToTensor(),\n",
    "        transforms.Normalize(mean=[0.485, 0.456, 0.406], std=[0.229, 0.224, 0.225])\n",
    "    ])\n",
    "    \n",
    "    train_data = datasets.CIFAR10(root='./data', train=True, download=True, transform=transform)\n",
    "    val_data = datasets.CIFAR10(root='./data', train=False, download=True, transform=transform)\n",
    "    \n",
    "    train_loader = DataLoader(train_data, batch_size=batch_size, shuffle=True)\n",
    "    val_loader = DataLoader(val_data, batch_size=batch_size)\n",
    "    return train_loader, val_loader\n"
   ]
  },
  {
   "cell_type": "code",
   "execution_count": 3,
   "id": "49fc35bc",
   "metadata": {},
   "outputs": [],
   "source": [
    "\n",
    "def train_model(model, train_loader, val_loader, epochs=10, lr=0.001):\n",
    "    device = torch.device(\"cuda\" if torch.cuda.is_available() else \"cpu\")\n",
    "    print(device)\n",
    "    model = model.to(device)\n",
    "    \n",
    "    criterion = nn.CrossEntropyLoss()\n",
    "    # optimizer = optim.Adam(model.parameters(), lr=lr,weight_decay=1e-4) #l2正则\n",
    "    # scheduler = optim.lr_scheduler.ReduceLROnPlateau(optimizer, 'max', patience=2)  # 动态学习率\n",
    "    optimizer = optim.SGD(model.parameters(), lr=0.1, momentum=0.9, weight_decay=5e-4)  # 改用SGD\n",
    "    scheduler = optim.lr_scheduler.MultiStepLR(optimizer, milestones=[5, 8], gamma=0.1)  # 阶梯式学习率\n",
    "    \n",
    "    \n",
    "    best_val_acc = 0\n",
    "    early_stop_counter = 0\n",
    "    \n",
    "    # 初始化记录器\n",
    "    history = {\n",
    "        'train_loss': [],\n",
    "        'train_acc': [],\n",
    "        'val_loss': [],\n",
    "        'val_acc': []\n",
    "    }\n",
    "    for epoch in range(epochs):\n",
    "        # 训练阶段\n",
    "        model.train()\n",
    "        train_loss, correct = 0, 0\n",
    "        for inputs, labels in tqdm(train_loader, desc=f\"Epoch {epoch+1}/{epochs}\"):\n",
    "            # 数据增强\n",
    "            # inputs = transforms.RandomHorizontalFlip()(inputs)  # 随机水平翻转\n",
    "            # inputs = transforms.ColorJitter(brightness=0.2, contrast=0.2)(inputs)\n",
    "            \n",
    "            inputs, labels = inputs.to(device), labels.to(device)\n",
    "            \n",
    "            optimizer.zero_grad()\n",
    "            outputs = model(inputs)\n",
    "            loss = criterion(outputs, labels)\n",
    "            loss.backward()\n",
    "            optimizer.step()\n",
    "            scheduler.step()  # 更新学习率\n",
    "            train_loss += loss.item()\n",
    "            correct += (outputs.argmax(1) == labels).sum().item()\n",
    "            \n",
    "        model.eval()\n",
    "        val_loss, val_correct = 0, 0\n",
    "        with torch.no_grad():\n",
    "            for inputs, labels in val_loader:\n",
    "                inputs, labels = inputs.to(device), labels.to(device)\n",
    "                outputs = model(inputs)\n",
    "                val_loss += criterion(outputs, labels).item()\n",
    "                val_correct += (outputs.argmax(1) == labels).sum().item()\n",
    "                \n",
    "                 # 早停机制\n",
    "            if val_correct/len(val_loader.dataset) > best_val_acc:\n",
    "                best_val_acc = val_correct/len(val_loader.dataset)\n",
    "                early_stop_counter = 0\n",
    "                torch.save(model.state_dict(), 'best_model.pth')\n",
    "            else:\n",
    "                early_stop_counter += 1\n",
    "                if early_stop_counter >= 3:  # 3轮无提升则停止\n",
    "                    print(\"Early stopping triggered\")\n",
    "                    break\n",
    "        \n",
    "      \n",
    "        \n",
    "         \n",
    "    # 修改记录指标部分\n",
    "        history['train_acc'].append(correct/len(train_loader.dataset))\n",
    "        history['val_acc'].append(val_correct/len(val_loader.dataset))\n",
    "\n",
    "    # 修改打印部分\n",
    "        print(f\"\\nTrain Loss: {train_loss/len(train_loader):.4f} | \"\n",
    "          f\"Train Acc: {correct/len(train_loader.dataset)*100:.2f}%\")\n",
    "        print(f\"Val Loss: {val_loss/len(val_loader):.4f} | \"\n",
    "          f\"Val Acc: {val_correct/len(val_loader.dataset)*100:.2f}%\")\n",
    "            # 记录指标\n",
    "        history['train_loss'].append(train_loss/len(train_loader))\n",
    "        history['val_loss'].append(val_loss/len(val_loader))\n",
    " \n",
    "        \n",
    "\n",
    "    \n",
    "    # 可视化训练过程\n",
    "    plt.figure(figsize=(12, 4))\n",
    "    \n",
    "    plt.subplot(1, 2, 1)\n",
    "    plt.plot(history['train_loss'], label='Train')\n",
    "    plt.plot(history['val_loss'], label='Validation')\n",
    "    plt.title('Loss Curve')\n",
    "    plt.xlabel('Epoch')\n",
    "    plt.ylabel('Loss')\n",
    "    plt.legend()\n",
    "    \n",
    "    plt.subplot(1, 2, 2)\n",
    "    plt.plot(history['train_acc'], label='Train')\n",
    "    plt.plot(history['val_acc'], label='Validation')\n",
    "    plt.title('Accuracy Curve')\n",
    "    plt.xlabel('Epoch')\n",
    "    plt.ylabel('Accuracy')\n",
    "    plt.legend()\n",
    "    \n",
    "    plt.tight_layout()\n",
    "    plt.show()\n",
    "    \n",
    "    scheduler.step(val_correct/len(val_loader.dataset))\n",
    "        \n",
    "       \n",
    "    \n",
    "    return history\n"
   ]
  },
  {
   "cell_type": "code",
   "execution_count": 4,
   "id": "3b8ab984",
   "metadata": {},
   "outputs": [
    {
     "name": "stdout",
     "output_type": "stream",
     "text": [
      "cuda\n"
     ]
    },
    {
     "name": "stderr",
     "output_type": "stream",
     "text": [
      "Epoch 1/10: 100%|██████████| 1563/1563 [01:58<00:00, 13.22it/s]\n"
     ]
    },
    {
     "name": "stdout",
     "output_type": "stream",
     "text": [
      "\n",
      "Train Loss: 1.8491 | Train Acc: 32.71%\n",
      "Val Loss: 1.4552 | Val Acc: 45.76%\n"
     ]
    },
    {
     "name": "stderr",
     "output_type": "stream",
     "text": [
      "Epoch 2/10: 100%|██████████| 1563/1563 [01:59<00:00, 13.13it/s]\n"
     ]
    },
    {
     "name": "stdout",
     "output_type": "stream",
     "text": [
      "\n",
      "Train Loss: 1.3675 | Train Acc: 50.30%\n",
      "Val Loss: 1.1979 | Val Acc: 56.67%\n"
     ]
    },
    {
     "name": "stderr",
     "output_type": "stream",
     "text": [
      "Epoch 3/10: 100%|██████████| 1563/1563 [01:58<00:00, 13.16it/s]\n"
     ]
    },
    {
     "name": "stdout",
     "output_type": "stream",
     "text": [
      "\n",
      "Train Loss: 1.1159 | Train Acc: 60.04%\n",
      "Val Loss: 1.0313 | Val Acc: 63.11%\n"
     ]
    },
    {
     "name": "stderr",
     "output_type": "stream",
     "text": [
      "Epoch 4/10: 100%|██████████| 1563/1563 [01:57<00:00, 13.29it/s]\n"
     ]
    },
    {
     "name": "stdout",
     "output_type": "stream",
     "text": [
      "\n",
      "Train Loss: 0.9430 | Train Acc: 66.53%\n",
      "Val Loss: 0.9975 | Val Acc: 64.98%\n"
     ]
    },
    {
     "name": "stderr",
     "output_type": "stream",
     "text": [
      "Epoch 5/10: 100%|██████████| 1563/1563 [01:58<00:00, 13.20it/s]\n"
     ]
    },
    {
     "name": "stdout",
     "output_type": "stream",
     "text": [
      "\n",
      "Train Loss: 0.8038 | Train Acc: 71.93%\n",
      "Val Loss: 0.7414 | Val Acc: 74.05%\n"
     ]
    },
    {
     "name": "stderr",
     "output_type": "stream",
     "text": [
      "Epoch 6/10: 100%|██████████| 1563/1563 [01:59<00:00, 13.13it/s]\n"
     ]
    },
    {
     "name": "stdout",
     "output_type": "stream",
     "text": [
      "\n",
      "Train Loss: 0.6934 | Train Acc: 75.80%\n",
      "Val Loss: 0.6797 | Val Acc: 76.60%\n"
     ]
    },
    {
     "name": "stderr",
     "output_type": "stream",
     "text": [
      "Epoch 7/10: 100%|██████████| 1563/1563 [01:59<00:00, 13.12it/s]\n"
     ]
    },
    {
     "name": "stdout",
     "output_type": "stream",
     "text": [
      "\n",
      "Train Loss: 0.6133 | Train Acc: 78.98%\n",
      "Val Loss: 0.6400 | Val Acc: 78.20%\n"
     ]
    },
    {
     "name": "stderr",
     "output_type": "stream",
     "text": [
      "Epoch 8/10: 100%|██████████| 1563/1563 [01:58<00:00, 13.16it/s]\n"
     ]
    },
    {
     "name": "stdout",
     "output_type": "stream",
     "text": [
      "\n",
      "Train Loss: 0.5532 | Train Acc: 80.79%\n",
      "Val Loss: 0.6036 | Val Acc: 79.76%\n"
     ]
    },
    {
     "name": "stderr",
     "output_type": "stream",
     "text": [
      "Epoch 9/10: 100%|██████████| 1563/1563 [01:58<00:00, 13.18it/s]\n"
     ]
    },
    {
     "name": "stdout",
     "output_type": "stream",
     "text": [
      "\n",
      "Train Loss: 0.5059 | Train Acc: 82.51%\n",
      "Val Loss: 0.5751 | Val Acc: 80.11%\n"
     ]
    },
    {
     "name": "stderr",
     "output_type": "stream",
     "text": [
      "Epoch 10/10: 100%|██████████| 1563/1563 [01:58<00:00, 13.20it/s]\n"
     ]
    },
    {
     "name": "stdout",
     "output_type": "stream",
     "text": [
      "\n",
      "Train Loss: 0.4689 | Train Acc: 83.78%\n",
      "Val Loss: 0.5081 | Val Acc: 82.58%\n"
     ]
    },
    {
     "data": {
      "image/png": "[encoded data removed]",
      "text/plain": [
       "<Figure size 1200x400 with 2 Axes>"
      ]
     },
     "metadata": {},
     "output_type": "display_data"
    },
    {
     "name": "stderr",
     "output_type": "stream",
     "text": [
      "/root/miniconda3/lib/python3.10/site-packages/torch/optim/lr_scheduler.py:198: UserWarning: The epoch parameter in `scheduler.step()` was not necessary and is being deprecated where possible. Please use `scheduler.step()` to step the scheduler. During the deprecation, if epoch is different from None, the closed form is used instead of the new chainable form, where available. Please open an issue if you are unable to replicate your use case: https://github.com/pytorch/pytorch/issues/new/choose.\n",
      "  warnings.warn(EPOCH_DEPRECATION_WARNING, UserWarning)\n"
     ]
    },
    {
     "data": {
      "text/plain": [
       "{'train_loss': [1.8491040876257976,\n",
       "  1.3675190542877598,\n",
       "  1.1159361304187347,\n",
       "  0.9430413756970023,\n",
       "  0.8037500234078843,\n",
       "  0.6934424558665153,\n",
       "  0.6132645716822765,\n",
       "  0.5532348835632271,\n",
       "  0.505887382657232,\n",
       "  0.4689228024884286],\n",
       " 'train_acc': [0.32714,\n",
       "  0.50302,\n",
       "  0.60044,\n",
       "  0.66534,\n",
       "  0.71932,\n",
       "  0.758,\n",
       "  0.7898,\n",
       "  0.80794,\n",
       "  0.82508,\n",
       "  0.83782],\n",
       " 'val_loss': [1.4551846550676388,\n",
       "  1.197892056486477,\n",
       "  1.0313180484139501,\n",
       "  0.9974632975392448,\n",
       "  0.7413804685345854,\n",
       "  0.6797264500643118,\n",
       "  0.6400346879761059,\n",
       "  0.6036175074763953,\n",
       "  0.5750893207784659,\n",
       "  0.5081421910002589],\n",
       " 'val_acc': [0.4576,\n",
       "  0.5667,\n",
       "  0.6311,\n",
       "  0.6498,\n",
       "  0.7405,\n",
       "  0.766,\n",
       "  0.782,\n",
       "  0.7976,\n",
       "  0.8011,\n",
       "  0.8258]}"
      ]
     },
     "execution_count": 4,
     "metadata": {},
     "output_type": "execute_result"
    }
   ],
   "source": [
    "model = ResNet18(num_classes=10)\n",
    "train_loader, val_loader = prepare_data()\n",
    "    \n",
    " # 开始训练\n",
    "train_model(model, train_loader, val_loader, epochs=10)"
   ]
  },
  {
   "cell_type": "code",
   "execution_count": null,
   "id": "ad4f795a-ab1f-4ebb-969d-dc27e1d3ed9c",
   "metadata": {},
   "outputs": [],
   "source": []
  }
 ],
 "metadata": {
  "kernelspec": {
   "display_name": "Python 3 (ipykernel)",
   "language": "python",
   "name": "python3"
  },
  "language_info": {
   "codemirror_mode": {
    "name": "ipython",
    "version": 3
   },
   "file_extension": ".py",
   "mimetype": "text/x-python",
   "name": "python",
   "nbconvert_exporter": "python",
   "pygments_lexer": "ipython3",
   "version": "3.10.8"
  }
 },
 "nbformat": 4,
 "nbformat_minor": 5
}
